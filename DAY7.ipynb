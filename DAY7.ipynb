{
 "cells": [
  {
   "cell_type": "markdown",
   "id": "0d5ed0e5",
   "metadata": {},
   "source": [
    "#### stack(FILO AND LIFO):undo/redo,browser history,egg plates,bangles\n",
    "####  queue(FIFO ):search engine,playlist,ticket counter"
   ]
  },
  {
   "cell_type": "code",
   "execution_count": 1,
   "id": "02b957d5",
   "metadata": {},
   "outputs": [
    {
     "name": "stdout",
     "output_type": "stream",
     "text": [
      "[10, 20, 30, 40]\n",
      "40\n",
      "[10, 20, 30]\n",
      "3\n"
     ]
    }
   ],
   "source": [
    "class Stack:\n",
    "    def __init__(self):\n",
    "        self.items=[]\n",
    "    def push(self,data):\n",
    "        self.items.append(data)\n",
    "    def pop(self):\n",
    "         return self.items.pop()\n",
    "    def size(self):\n",
    "         return len(self.items)\n",
    "        \n",
    "s=Stack()\n",
    "s.push(10)\n",
    "s.push(20)\n",
    "s.push(30)\n",
    "s.push(40)\n",
    "print(s.items)\n",
    "print(s.pop())\n",
    "print(s.items)\n",
    "print(s.size())\n",
    "\n",
    "    "
   ]
  },
  {
   "cell_type": "markdown",
   "id": "24b97215",
   "metadata": {},
   "source": [
    "A student is given a task to create some mathematical expression for board mass. But due to some other work, I forgot to do that. But in the night, he clicked that he have to create some expressions for partners due to sleeping mode. He did some mistakes while putting the brackets to your job. Your job is to check whether the expression given by that is valid or not."
   ]
  },
  {
   "cell_type": "code",
   "execution_count": 6,
   "id": "f5cea963",
   "metadata": {},
   "outputs": [
    {
     "name": "stdout",
     "output_type": "stream",
     "text": [
      "[3+7{52/11(3+5)}]\n",
      "valid\n"
     ]
    }
   ],
   "source": [
    "st=Stack()\n",
    "exp=input()\n",
    "OB='([{'\n",
    "CB=')]}'\n",
    "flag=0\n",
    "for i in exp:\n",
    "    if i in OB:\n",
    "        st.push(i)\n",
    "    if i in CB:\n",
    "        x=st.pop()\n",
    "        if x==\"(\" and i==\")\":\n",
    "            pass\n",
    "        elif x==\"[\" and i==\"]\":\n",
    "            pass\n",
    "        elif x==\"{\" and i==\"}\":\n",
    "            pass\n",
    "        else:\n",
    "            flag=1\n",
    "            break\n",
    "if flag == 0 and st.size()==0:\n",
    "    print(\"valid\")\n",
    "else:\n",
    "    print(\"invalid\")\n",
    "    \n",
    "        \n",
    "#if we dont give straing bracket it is giving error\n",
    "\n",
    "        \n",
    "    \n",
    "\n"
   ]
  },
  {
   "cell_type": "code",
   "execution_count": 5,
   "id": "c99b45cc",
   "metadata": {},
   "outputs": [
    {
     "name": "stdout",
     "output_type": "stream",
     "text": [
      "3+7{52/11(3+5)}]\n",
      "invalid\n"
     ]
    }
   ],
   "source": [
    "st=Stack()\n",
    "exp=input()\n",
    "OB='([{'\n",
    "CB=')]}'\n",
    "flag=0\n",
    "for i in exp:\n",
    "    if i in OB:\n",
    "        st.push(i)\n",
    "\n",
    "for i in exp:\n",
    "        x=st.pop()\n",
    "        if x==\"(\" and i==\")\":\n",
    "            pass\n",
    "        elif x==\"[\" and i==\"]\":\n",
    "            pass\n",
    "        elif x==\"{\" and i==\"}\":\n",
    "            pass\n",
    "        else:\n",
    "            flag=1\n",
    "            break\n",
    "if flag == 0 and st.size()==0:\n",
    "    print(\"valid\")\n",
    "else:\n",
    "    print(\"invalid\")\n",
    "    \n",
    "        \n",
    "\n",
    "\n",
    "        \n",
    "    \n",
    "\n"
   ]
  },
  {
   "cell_type": "markdown",
   "id": "2148abb6",
   "metadata": {},
   "source": [
    " In a tyre factory Many workers are working there. Each worker is assigned with the integer number, which helps them to find their supervisor. The project manager having an array that consists of integer number, help the project manager to find it supervisor. Supervisor will be assigned as the first largest integer fined on the right side of the array, if not found return minus 1.\n",
    " #### i/p:[3,5,2,14,5,3,7,9,4,6,9,4,2,5,3]\n",
    " #### o/p:[5,14,14,-1,7,7,9,-1,6,9,-1,5,5,-1,-1]\n",
    " "
   ]
  },
  {
   "cell_type": "code",
   "execution_count": 33,
   "id": "847181e9",
   "metadata": {},
   "outputs": [
    {
     "name": "stdout",
     "output_type": "stream",
     "text": [
      "[5, 14, 14, -1, 7, 7, 9, -1, 6, 9, -1, 5, 5, -1, -1]\n",
      "51\n"
     ]
    }
   ],
   "source": [
    "list=[3,5,2,14,5,3,7,9,4,6,9,4,2,5,3]\n",
    "l1=[]\n",
    "c=0\n",
    "for i in range(len(list)):\n",
    "    max=list[i]\n",
    "    c+=1\n",
    "    for j in  range(i+1,len(list)):\n",
    "        c+=1\n",
    "        if list[j]>max:\n",
    "            max=list[j]\n",
    "       # if max>list[i]:\n",
    "            l1.append(max)\n",
    "            break\n",
    "    else:\n",
    "        l1.append(-1)\n",
    "        \n",
    "print(l1)\n",
    "print(c)\n",
    "    \n",
    "            \n",
    "        \n"
   ]
  },
  {
   "cell_type": "code",
   "execution_count": 34,
   "id": "b665b843",
   "metadata": {},
   "outputs": [
    {
     "name": "stdout",
     "output_type": "stream",
     "text": [
      "[3, 5, 2, 14, 5, 3, 7, 9, 4, 6, 9, 4, 2, 5, 3]\n",
      "[5, 14, 14, -1, 7, 7, 9, -1, 6, 9, -1, 5, 5, -1, -1]\n"
     ]
    }
   ],
   "source": [
    "l=[3,5,2,14,5,3,7,9,4,6,9,4,2,5,3]\n",
    "ls=l.copy()\n",
    "j=0\n",
    "i=0\n",
    "n=0\n",
    "length=len(l)\n",
    "while n!=length:\n",
    "    i+=1\n",
    "    val =l[j]\n",
    "    if l[i] >val:\n",
    "        ls[j]=l[i]\n",
    "        i=j\n",
    "        j+=1\n",
    "        n+=1\n",
    "    if i == length-1:\n",
    "        ls[j]=-1\n",
    "        i=j\n",
    "        j+=1\n",
    "        n+=1  \n",
    "print(l)\n",
    "print(ls)"
   ]
  },
  {
   "cell_type": "code",
   "execution_count": 11,
   "id": "91d6d38a",
   "metadata": {},
   "outputs": [
    {
     "name": "stdout",
     "output_type": "stream",
     "text": [
      "[5, 14, 14, -1, 7, 7, 9, -1, 6, 9, -1, 5, 5, -1, -1]\n"
     ]
    }
   ],
   "source": [
    "class stcak:\n",
    "    def __init__(self):\n",
    "        self.itt=[]\n",
    "    def push(self,data):\n",
    "        self.itt.append(data)\n",
    "    def pop(self):\n",
    "        return self.itt.pop()\n",
    "    def size(self):\n",
    "        return len(self.itt)\n",
    "    def top(self):\n",
    "        return self.itt[-1]\n",
    "  \n",
    "\n",
    "l=[3,5,2,14,5,3,7,9,4,6,9,4,2,5,3]\n",
    "o=[0]*len(l)\n",
    "s=stcak()\n",
    "for i in range(len(l)-1,-1,-1):\n",
    "    if s.size()!=0:\n",
    "        while s.size()!=0 and s.top()<=l[i]:\n",
    "            if s.top()<=l[i]:\n",
    "                s.pop()\n",
    "      \n",
    "    if s.size()==0:\n",
    "        o[i]=-1\n",
    "    else:\n",
    "        o[i]=s.top()\n",
    "    s.push(l[i])\n",
    "print(o)"
   ]
  },
  {
   "cell_type": "code",
   "execution_count": 35,
   "id": "27cb56ac",
   "metadata": {},
   "outputs": [],
   "source": [
    "class Queue:\n",
    "    def __init__(Self):\n",
    "        self.item=[]\n",
    "    def push(self,data):\n",
    "        self.item.append(data)\n",
    "    def pop(self):\n",
    "        return self.item.pop(0)\n",
    "    def size(Self):\n",
    "        return len(self.item)\n",
    "    "
   ]
  },
  {
   "cell_type": "markdown",
   "id": "3259d479",
   "metadata": {},
   "source": [
    "A pointer is a variable that holds the address of another variable\n",
    "Size of a pointer is same as  the size of the type of variable it is holding"
   ]
  },
  {
   "cell_type": "code",
   "execution_count": 18,
   "id": "82e4814c",
   "metadata": {},
   "outputs": [],
   "source": [
    "class Node:\n",
    "    def __init__(self,data):\n",
    "        self.value=data\n",
    "        self.next=None\n",
    "Head=Node(10)\n",
    "Head.next=Node(20)\n",
    "Head.next.next=Node(30)\n",
    "\n",
    "\n"
   ]
  },
  {
   "cell_type": "code",
   "execution_count": 34,
   "id": "ba267dcd",
   "metadata": {},
   "outputs": [
    {
     "name": "stdout",
     "output_type": "stream",
     "text": [
      "<__main__.Node object at 0x000001B5C27A4290>\n",
      "<__main__.Node object at 0x000001B5C27A6790>\n",
      "<__main__.Node object at 0x000001B5C27A6790>\n"
     ]
    }
   ],
   "source": [
    "class NOde:\n",
    "    def __init__(self,data):\n",
    "        self.value=data\n",
    "        self.next=None\n",
    "Head=Tail=Node(10)\n",
    "\n",
    "Tail.next=Node(20)\n",
    "Tail=Tail.next\n",
    "\n",
    "Tail.next=Node(30)\n",
    "Tail=Tail.next\n",
    "\n",
    "Tail.next=Node(40)\n",
    "Tail=Tail.next\n",
    "\n",
    "print(Head)\n",
    "print(Tail)\n",
    "print(Head.next.next.next)"
   ]
  },
  {
   "cell_type": "code",
   "execution_count": 35,
   "id": "3ce8dfb3",
   "metadata": {},
   "outputs": [
    {
     "name": "stdout",
     "output_type": "stream",
     "text": [
      "10\n",
      "20\n",
      "30\n",
      "40\n"
     ]
    }
   ],
   "source": [
    "def print_list(Head):\n",
    "    if  Head==None:\n",
    "        print(\"list is empty\")\n",
    "        return\n",
    "    curr=Head\n",
    "    while(curr.next!=None):#or while(curr.next!=None):print(curr.value) curr=curr.next\n",
    "        print(curr.value)\n",
    "        curr=curr.next\n",
    "    print(curr.value)\n",
    "print_list(Head)"
   ]
  },
  {
   "cell_type": "code",
   "execution_count": null,
   "id": "c63bd674",
   "metadata": {},
   "outputs": [],
   "source": [
    "#linked list"
   ]
  },
  {
   "cell_type": "code",
   "execution_count": 4,
   "id": "76d10418",
   "metadata": {},
   "outputs": [
    {
     "name": "stdout",
     "output_type": "stream",
     "text": [
      "2.9867+978.456\n",
      "2.9867 978.456\n",
      "981.4427000000001\n"
     ]
    }
   ],
   "source": [
    "s=input()\n",
    "op=['+','-','/','%']\n",
    "\n",
    "for i in s:\n",
    "    if i in op:\n",
    "        x=i\n",
    "        s=s.replace(i,\" \")\n",
    "print(s)\n",
    "l=list(map(float,s.split(\" \")))\n",
    "match x:\n",
    "    case '+':print(l[0]+l[1])\n",
    "    case '-':print(l[0]-l[1])\n",
    "    case '/':print(l[0]/l[1])\n",
    "    case '%':print(l[0]%l[1])\n",
    "    case  _:print(\"invalid\")\n"
   ]
  },
  {
   "cell_type": "code",
   "execution_count": 5,
   "id": "6d59f6a0",
   "metadata": {},
   "outputs": [
    {
     "name": "stdout",
     "output_type": "stream",
     "text": [
      "2+2\n",
      "4.0\n"
     ]
    }
   ],
   "source": [
    "l=[i for i in input()]\n",
    "op='/*-+'\n",
    "\n",
    "for i in l:\n",
    "    idex=0\n",
    "    if i in op:\n",
    "        idex= l.index(i)\n",
    "        val1 = float(''.join(l[:idex]))\n",
    "        val2 =float(''.join(l[idex+1:]))\n",
    "        oper= l[idex]\n",
    "        break\n",
    "if oper == '+':\n",
    "    print( val1+val2)\n",
    "elif oper == '-':\n",
    "    print( val1-val2)\n",
    "elif oper == '*':\n",
    "    print( val1*val2) \n",
    "elif oper == '/':\n",
    "    print( val1/val2)\n",
    "    "
   ]
  },
  {
   "cell_type": "code",
   "execution_count": null,
   "id": "d4ad5c75",
   "metadata": {},
   "outputs": [],
   "source": []
  }
 ],
 "metadata": {
  "kernelspec": {
   "display_name": "Python 3 (ipykernel)",
   "language": "python",
   "name": "python3"
  },
  "language_info": {
   "codemirror_mode": {
    "name": "ipython",
    "version": 3
   },
   "file_extension": ".py",
   "mimetype": "text/x-python",
   "name": "python",
   "nbconvert_exporter": "python",
   "pygments_lexer": "ipython3",
   "version": "3.11.5"
  }
 },
 "nbformat": 4,
 "nbformat_minor": 5
}
