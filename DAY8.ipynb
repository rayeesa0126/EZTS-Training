{
 "cells": [
  {
   "cell_type": "markdown",
   "id": "dea82a6c",
   "metadata": {},
   "source": [
    "### sorting:bubble,selection,insertion,quick and merge sort\n"
   ]
  },
  {
   "cell_type": "code",
   "execution_count": 3,
   "id": "dc169cd2",
   "metadata": {},
   "outputs": [
    {
     "name": "stdout",
     "output_type": "stream",
     "text": [
      "10 4 3 7 6 8 1 5 15 \n",
      "[1, 3, 4, 5, 6, 7, 8, 10, 15]\n"
     ]
    }
   ],
   "source": [
    "# Bubble sort implementation\n",
    "l = list(map(int, input().split()))\n",
    "n=len(l)\n",
    "\n",
    "for i in range(0,n-1):\n",
    "    for j in range(0,n - 1 - i):\n",
    "        if l[j] > l[j + 1]:\n",
    "            l[j], l[j + 1] = l[j + 1], l[j]\n",
    "\n",
    "print(l)\n"
   ]
  },
  {
   "cell_type": "code",
   "execution_count": 16,
   "id": "cfb217c0",
   "metadata": {},
   "outputs": [
    {
     "name": "stdout",
     "output_type": "stream",
     "text": [
      "-1\n"
     ]
    }
   ],
   "source": [
    "l=[3,6,10,9,2,0,-1]\n",
    "min=l[0]\n",
    "for i in range(1,len(l)):\n",
    "    if l[i]<min:\n",
    "        min=l[i]\n",
    "print(min)\n",
    "    "
   ]
  },
  {
   "cell_type": "code",
   "execution_count": 9,
   "id": "6ffc639e",
   "metadata": {},
   "outputs": [
    {
     "name": "stdout",
     "output_type": "stream",
     "text": [
      "10 4 3 7 6 8 1 5 15 \n",
      "[1, 3, 4, 5, 6, 7, 8, 10, 15]\n"
     ]
    }
   ],
   "source": [
    "#selection sort:find min and put it at start\n",
    "l = list(map(int, input().split()))\n",
    "n=len(l)\n",
    "for i in range(n):\n",
    "    min=i\n",
    "    for j in range(i+1,n):\n",
    "        if l[j]<l[min]:\n",
    "            min=j\n",
    "    l[i],l[min] =l[min],l[i]\n",
    "print(l)\n",
    "        \n"
   ]
  },
  {
   "cell_type": "code",
   "execution_count": 13,
   "id": "3d3f2d44",
   "metadata": {},
   "outputs": [
    {
     "name": "stdout",
     "output_type": "stream",
     "text": [
      "10 4 3 7 6 8 1 5 15 \n",
      "[1, 3, 4, 5, 6, 7, 8, 10, 15]\n"
     ]
    }
   ],
   "source": [
    "#selection sort:find min and put it at start\n",
    "l = list(map(int, input().split()))\n",
    "n=len(l)\n",
    "for i in range(n):\n",
    "    pos=i\n",
    "    min=l[i]\n",
    "    for j in range(i+1,n):\n",
    "        if l[j]<min:\n",
    "            min=l[j]\n",
    "            pos=j\n",
    "    l[i],l[pos] =l[pos],l[i]\n",
    "print(l)\n",
    "        \n"
   ]
  },
  {
   "cell_type": "code",
   "execution_count": 2,
   "id": "b8857e02",
   "metadata": {},
   "outputs": [
    {
     "name": "stdout",
     "output_type": "stream",
     "text": [
      "Sorted array is: [5, 6, 11, 12, 13]\n"
     ]
    }
   ],
   "source": [
    "#insertion sort\n",
    "def insertion_sort(arr):\n",
    "    for i in range(1, len(arr)):\n",
    "        key = arr[i]\n",
    "        j = i - 1\n",
    "        while j >= 0 and key < arr[j]:\n",
    "            arr[j + 1] = arr[j]\n",
    "            j -= 1\n",
    "        arr[j + 1] = key\n",
    "    return arr\n",
    "\n",
    "if __name__ == \"__main__\":\n",
    "    arr = [12, 11, 13, 5, 6]\n",
    "    sorted_arr = insertion_sort(arr)\n",
    "    print(\"Sorted array is:\", sorted_arr)\n"
   ]
  },
  {
   "cell_type": "code",
   "execution_count": 15,
   "id": "04713b78",
   "metadata": {},
   "outputs": [
    {
     "name": "stdout",
     "output_type": "stream",
     "text": [
      "0\n",
      "1\n",
      "2\n",
      "3\n",
      "4\n",
      "5\n",
      "6\n",
      "7\n",
      "8\n",
      "9\n"
     ]
    }
   ],
   "source": [
    "#recursion\n",
    "def print_num(n):\n",
    "    if n<10:\n",
    "        print(n)\n",
    "        print_num(n+1)\n",
    "print_num(0)"
   ]
  },
  {
   "cell_type": "code",
   "execution_count": 3,
   "id": "ad63b931",
   "metadata": {},
   "outputs": [
    {
     "name": "stdout",
     "output_type": "stream",
     "text": [
      "9\n",
      "8\n",
      "7\n",
      "6\n",
      "5\n",
      "4\n",
      "3\n",
      "2\n",
      "1\n",
      "0\n"
     ]
    }
   ],
   "source": [
    "#recursion\n",
    "def print_num(n):\n",
    "    if n<10:\n",
    "        print_num(n+1)\n",
    "        print(n)\n",
    "print_num(0)"
   ]
  },
  {
   "cell_type": "code",
   "execution_count": 19,
   "id": "8c025f7a",
   "metadata": {},
   "outputs": [
    {
     "name": "stdout",
     "output_type": "stream",
     "text": [
      "4\n",
      "0 1 1 2 "
     ]
    }
   ],
   "source": [
    "def fib(n):\n",
    "    if n==1:\n",
    "        return 0\n",
    "    elif n==2:\n",
    "        return 1\n",
    "    else:\n",
    "        return fib(n-1)+fib(n-2)\n",
    "if __name__==\"__main__\":\n",
    "    n=int(input())\n",
    "    for i in range(1,n+1):\n",
    "        print(fib(i),end=\" \")\n",
    " \n",
    "    "
   ]
  },
  {
   "cell_type": "code",
   "execution_count": 20,
   "id": "84c201dc",
   "metadata": {},
   "outputs": [
    {
     "name": "stdout",
     "output_type": "stream",
     "text": [
      "120\n"
     ]
    }
   ],
   "source": [
    "def fact(n):\n",
    "    if n==0:\n",
    "        return 1\n",
    "    return n*fact(n-1)\n",
    "print(fact(5))"
   ]
  },
  {
   "cell_type": "code",
   "execution_count": 13,
   "id": "498eb567",
   "metadata": {},
   "outputs": [
    {
     "name": "stdout",
     "output_type": "stream",
     "text": [
      "5 67 89 54 0 3 4\n",
      "0 6\n",
      "2 0 6\n",
      "1 0 1\n",
      "6 3 6\n",
      "5 3 5\n",
      "3 3 4\n",
      "sorted array [0, 3, 4, 5, 54, 67, 89]\n"
     ]
    }
   ],
   "source": [
    "#quick sort\n",
    "def divide(l,low,high):\n",
    "    p=l[high]\n",
    "    pi=high\n",
    "    j=low-1\n",
    "    for i in range(low,high):\n",
    "        if l[i]<=p:\n",
    "            j+=1\n",
    "            l[i],l[j]=l[j],l[i]\n",
    "    j+=1\n",
    "    l[j],l[pi]=l[pi],l[j]\n",
    "    pi=j\n",
    "    return pi\n",
    "def Quick_sort(l,low,high):\n",
    "    if low<high:\n",
    "        pi=divide(l,low,high)\n",
    "        print(pi,low,high)\n",
    "        Quick_sort(l,low,pi-1)\n",
    "        Quick_sort(l,pi+1,high)\n",
    "        return\n",
    "\n",
    "if __name__==\"__main__\":\n",
    "    l=list(map(int,input().split()))\n",
    "    low=0\n",
    "    high=len(l)-1\n",
    "    print(low,high)\n",
    "    Quick_sort(l,low,high)\n",
    "    print(\"sorted array\",l)"
   ]
  },
  {
   "cell_type": "code",
   "execution_count": 15,
   "id": "cd06ff98",
   "metadata": {},
   "outputs": [
    {
     "name": "stdout",
     "output_type": "stream",
     "text": [
      "5 67 89 54 0 3 4\n",
      "Sorted array is: [0, 3, 4, 5, 54, 67, 89]\n"
     ]
    }
   ],
   "source": [
    "#merge sort\n",
    "def merge_sort(arr):\n",
    "    if len(arr) > 1:\n",
    "        mid = len(arr) // 2\n",
    "        \n",
    "        left = arr[:mid]\n",
    "        right = arr[mid:]\n",
    "        \n",
    "        merge_sort(left)\n",
    "        merge_sort(right)\n",
    "\n",
    "        i = j = k = 0\n",
    "        \n",
    "        while i < len(left) and j < len(right):\n",
    "            if left[i] < right[j]:\n",
    "                arr[k] = left[i]\n",
    "                i += 1\n",
    "            else:\n",
    "                arr[k] = right[j]\n",
    "                j += 1\n",
    "            k += 1\n",
    "        \n",
    "        while i < len(left):\n",
    "            arr[k] = left[i]\n",
    "            i += 1\n",
    "            k += 1\n",
    "        \n",
    "        while j < len(right):\n",
    "            arr[k] = right[j]\n",
    "            j += 1\n",
    "            k += 1\n",
    "\n",
    "if __name__==\"__main__\":\n",
    "    arr=list(map(int,input().split()))\n",
    "    merge_sort(arr)\n",
    "    print(\"Sorted array is:\", arr)\n"
   ]
  },
  {
   "cell_type": "code",
   "execution_count": null,
   "id": "f6f12d6c",
   "metadata": {},
   "outputs": [],
   "source": []
  }
 ],
 "metadata": {
  "kernelspec": {
   "display_name": "Python 3 (ipykernel)",
   "language": "python",
   "name": "python3"
  },
  "language_info": {
   "codemirror_mode": {
    "name": "ipython",
    "version": 3
   },
   "file_extension": ".py",
   "mimetype": "text/x-python",
   "name": "python",
   "nbconvert_exporter": "python",
   "pygments_lexer": "ipython3",
   "version": "3.11.5"
  }
 },
 "nbformat": 4,
 "nbformat_minor": 5
}
